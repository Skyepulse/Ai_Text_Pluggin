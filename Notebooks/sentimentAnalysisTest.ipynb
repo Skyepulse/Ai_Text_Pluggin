{
 "cells": [
  {
   "cell_type": "code",
   "execution_count": 1,
   "metadata": {},
   "outputs": [
    {
     "name": "stderr",
     "output_type": "stream",
     "text": [
      "[nltk_data] Downloading package punkt to\n",
      "[nltk_data]     C:\\Users\\Elmrys\\AppData\\Roaming\\nltk_data...\n",
      "[nltk_data]   Package punkt is already up-to-date!\n"
     ]
    },
    {
     "data": {
      "text/plain": [
       "True"
      ]
     },
     "execution_count": 1,
     "metadata": {},
     "output_type": "execute_result"
    }
   ],
   "source": [
    "import os.path as op\n",
    "import re \n",
    "import numpy as np\n",
    "import matplotlib.pyplot as plt\n",
    "\n",
    "from sklearn.feature_extraction.text import CountVectorizer\n",
    "\n",
    "from sklearn.model_selection import cross_val_score\n",
    "from sklearn.base import BaseEstimator, ClassifierMixin\n",
    "\n",
    "import nltk\n",
    "nltk.download('punkt')"
   ]
  },
  {
   "cell_type": "code",
   "execution_count": 2,
   "metadata": {},
   "outputs": [],
   "source": [
    "from sumy.parsers.plaintext import PlaintextParser\n",
    "from sumy.nlp.tokenizers import Tokenizer\n",
    "from sumy.summarizers.lsa import LsaSummarizer  "
   ]
  },
  {
   "cell_type": "markdown",
   "metadata": {},
   "source": [
    "sumy"
   ]
  },
  {
   "cell_type": "code",
   "execution_count": 16,
   "metadata": {},
   "outputs": [
    {
     "name": "stdout",
     "output_type": "stream",
     "text": [
      "Summary with 1 sentences\n",
      "The internet has also been a powerful tool for freedom of expression and activism, enabling movements to gain global attention.\n",
      "Summary with 2 sentences\n",
      "These technical underpinnings have allowed the internet to scale and become more accessible, with billions of devices now connected worldwide.\n",
      "The internet has also been a powerful tool for freedom of expression and activism, enabling movements to gain global attention.\n",
      "Summary with 3 sentences\n",
      "These technical underpinnings have allowed the internet to scale and become more accessible, with billions of devices now connected worldwide.\n",
      "Email, social media, and instant messaging have made it possible to interact with others instantly, regardless of geographical location.\n",
      "The internet has also been a powerful tool for freedom of expression and activism, enabling movements to gain global attention.\n",
      "Summary with 4 sentences\n",
      "These technical underpinnings have allowed the internet to scale and become more accessible, with billions of devices now connected worldwide.\n",
      "Email, social media, and instant messaging have made it possible to interact with others instantly, regardless of geographical location.\n",
      "The internet has also been a powerful tool for freedom of expression and activism, enabling movements to gain global attention.\n",
      "Search engines, digital libraries, and online courses have made knowledge more accessible than ever before.\n"
     ]
    }
   ],
   "source": [
    "text = '''\n",
    "The internet, a global network of interconnected computers, has revolutionized the way we communicate, conduct business, and access information. It began as a research project funded by the U.S. Department of Defense in the 1960s, known as ARPANET. Its initial purpose was to enable multiple computers to communicate on a single network for sharing information and resources, primarily to support research and military communications. Over the years, the network expanded beyond military and academic institutions to include commercial and private entities, laying the foundation for the modern internet.\n",
    "\n",
    "The introduction of the World Wide Web in 1990 by Tim Berners-Lee, a British scientist at CERN, was a pivotal moment in internet history. The Web provided a simple and accessible means for navigating the internet through browsers, using hyperlinks to connect various documents and resources stored on servers worldwide. This innovation led to an explosion of content and users, transforming the internet from a niche tool for scientists and academics into a global phenomenon.\n",
    "\n",
    "The rapid expansion of the internet has been fueled by technological advancements, including the development of faster and more reliable data transmission methods, such as fiber optics, and the widespread adoption of protocols like TCP/IP, which standardize communication between different networks. These technical underpinnings have allowed the internet to scale and become more accessible, with billions of devices now connected worldwide.\n",
    "\n",
    "One of the most profound impacts of the internet has been on communication. Email, social media, and instant messaging have made it possible to interact with others instantly, regardless of geographical location. This has facilitated new forms of social interaction, collaboration, and the sharing of information on an unprecedented scale. The internet has also been a powerful tool for freedom of expression and activism, enabling movements to gain global attention.\n",
    "\n",
    "In the realm of commerce, the internet has given rise to e-commerce, transforming how businesses operate and how consumers purchase goods and services. Companies like Amazon and Alibaba have become giants, offering a vast array of products online, while platforms like eBay and Etsy have enabled individuals and small businesses to reach a global market. The digital economy has also been driven by the proliferation of online advertising, digital marketing strategies, and the collection and analysis of vast amounts of data to tailor services and advertisements to individual users.\n",
    "\n",
    "The impact of the internet on information access and education has been equally significant. Search engines, digital libraries, and online courses have made knowledge more accessible than ever before. However, this has also raised concerns about information overload, the reliability of online sources, and the digital divide—the gap between those who have access to the internet and those who do not.\n",
    "\n",
    "In conclusion, the internet has become an integral part of daily life, influencing virtually every aspect of society. Its development from a small network of computers to a global infrastructure has been driven by both technological innovation and the growing demand for digital connectivity. As the internet continues to evolve, it promises to bring further changes to how we live, work, and interact with the world around us.\n",
    "\n",
    "'''\n",
    "parser = PlaintextParser.from_string(text, Tokenizer(\"english\"))\n",
    "summarizer = LsaSummarizer()\n",
    "summary = summarizer(parser.document, 1)\n",
    "summary2 = summarizer(parser.document, 2)\n",
    "summary3 = summarizer(parser.document, 3)\n",
    "summary4 = summarizer(parser.document, 4)\n",
    "\n",
    "summaries = [summary, summary2, summary3, summary4]\n",
    "for sum in summaries:\n",
    "    print(\"Summary with\", len(sum), \"sentences\")\n",
    "    for sentence in sum:\n",
    "        print(sentence)"
   ]
  },
  {
   "cell_type": "markdown",
   "metadata": {},
   "source": [
    "BERT"
   ]
  },
  {
   "cell_type": "code",
   "execution_count": 14,
   "metadata": {},
   "outputs": [],
   "source": [
    "from summarizer import Summarizer\n",
    "\n",
    "summarizer = Summarizer()"
   ]
  },
  {
   "cell_type": "code",
   "execution_count": 15,
   "metadata": {},
   "outputs": [
    {
     "name": "stderr",
     "output_type": "stream",
     "text": [
      "c:\\Users\\Elmrys\\anaconda3\\Lib\\site-packages\\sklearn\\cluster\\_kmeans.py:1412: FutureWarning: The default value of `n_init` will change from 10 to 'auto' in 1.4. Set the value of `n_init` explicitly to suppress the warning\n",
      "  super()._check_params_vs_input(X, default_n_init=10)\n",
      "c:\\Users\\Elmrys\\anaconda3\\Lib\\site-packages\\sklearn\\cluster\\_kmeans.py:1436: UserWarning: KMeans is known to have a memory leak on Windows with MKL, when there are less chunks than available threads. You can avoid it by setting the environment variable OMP_NUM_THREADS=1.\n",
      "  warnings.warn(\n",
      "c:\\Users\\Elmrys\\anaconda3\\Lib\\site-packages\\sklearn\\cluster\\_kmeans.py:1412: FutureWarning: The default value of `n_init` will change from 10 to 'auto' in 1.4. Set the value of `n_init` explicitly to suppress the warning\n",
      "  super()._check_params_vs_input(X, default_n_init=10)\n",
      "c:\\Users\\Elmrys\\anaconda3\\Lib\\site-packages\\sklearn\\cluster\\_kmeans.py:1436: UserWarning: KMeans is known to have a memory leak on Windows with MKL, when there are less chunks than available threads. You can avoid it by setting the environment variable OMP_NUM_THREADS=1.\n",
      "  warnings.warn(\n",
      "c:\\Users\\Elmrys\\anaconda3\\Lib\\site-packages\\sklearn\\cluster\\_kmeans.py:1412: FutureWarning: The default value of `n_init` will change from 10 to 'auto' in 1.4. Set the value of `n_init` explicitly to suppress the warning\n",
      "  super()._check_params_vs_input(X, default_n_init=10)\n",
      "c:\\Users\\Elmrys\\anaconda3\\Lib\\site-packages\\sklearn\\cluster\\_kmeans.py:1436: UserWarning: KMeans is known to have a memory leak on Windows with MKL, when there are less chunks than available threads. You can avoid it by setting the environment variable OMP_NUM_THREADS=1.\n",
      "  warnings.warn(\n",
      "c:\\Users\\Elmrys\\anaconda3\\Lib\\site-packages\\sklearn\\cluster\\_kmeans.py:1412: FutureWarning: The default value of `n_init` will change from 10 to 'auto' in 1.4. Set the value of `n_init` explicitly to suppress the warning\n",
      "  super()._check_params_vs_input(X, default_n_init=10)\n",
      "c:\\Users\\Elmrys\\anaconda3\\Lib\\site-packages\\sklearn\\cluster\\_kmeans.py:1436: UserWarning: KMeans is known to have a memory leak on Windows with MKL, when there are less chunks than available threads. You can avoid it by setting the environment variable OMP_NUM_THREADS=1.\n",
      "  warnings.warn(\n"
     ]
    },
    {
     "name": "stdout",
     "output_type": "stream",
     "text": [
      "\n",
      " One of the most profound impacts of the internet has been on communication. The impact of the internet on information access and education has been equally significant.\n",
      "\n",
      " The internet, a global network of interconnected computers, has revolutionized the way we communicate, conduct business, and access information. The Web provided a simple and accessible means for navigating the internet through browsers, using hyperlinks to connect various documents and resources stored on servers worldwide. These technical underpinnings have allowed the internet to scale and become more accessible, with billions of devices now connected worldwide. The impact of the internet on information access and education has been equally significant.\n",
      "\n",
      " The internet, a global network of interconnected computers, has revolutionized the way we communicate, conduct business, and access information. Over the years, the network expanded beyond military and academic institutions to include commercial and private entities, laying the foundation for the modern internet. These technical underpinnings have allowed the internet to scale and become more accessible, with billions of devices now connected worldwide. One of the most profound impacts of the internet has been on communication. In the realm of commerce, the internet has given rise to e-commerce, transforming how businesses operate and how consumers purchase goods and services.\n",
      "\n",
      " The internet, a global network of interconnected computers, has revolutionized the way we communicate, conduct business, and access information. Over the years, the network expanded beyond military and academic institutions to include commercial and private entities, laying the foundation for the modern internet. These technical underpinnings have allowed the internet to scale and become more accessible, with billions of devices now connected worldwide. One of the most profound impacts of the internet has been on communication. In the realm of commerce, the internet has given rise to e-commerce, transforming how businesses operate and how consumers purchase goods and services.\n"
     ]
    }
   ],
   "source": [
    "summary = summarizer(text, min_length=0, max_length=100)\n",
    "summary2 = summarizer(text, min_length=0, max_length=200)\n",
    "summary3 = summarizer(text, min_length=0, max_length=300)\n",
    "summary4 = summarizer(text, min_length=0, max_length=400)\n",
    "summaries = [summary, summary2, summary3, summary4]\n",
    "for sum in summaries:\n",
    "    print(\"\\n\", sum)\n"
   ]
  },
  {
   "cell_type": "markdown",
   "metadata": {},
   "source": [
    "BART"
   ]
  },
  {
   "cell_type": "code",
   "execution_count": 17,
   "metadata": {},
   "outputs": [],
   "source": [
    "from transformers import BartTokenizer, BartForConditionalGeneration"
   ]
  },
  {
   "cell_type": "code",
   "execution_count": 18,
   "metadata": {},
   "outputs": [
    {
     "data": {
      "application/vnd.jupyter.widget-view+json": {
       "model_id": "3f8dcb35955b41d9bb6c4c6c5773502b",
       "version_major": 2,
       "version_minor": 0
      },
      "text/plain": [
       "Downloading vocab.json:   0%|          | 0.00/899k [00:00<?, ?B/s]"
      ]
     },
     "metadata": {},
     "output_type": "display_data"
    },
    {
     "data": {
      "application/vnd.jupyter.widget-view+json": {
       "model_id": "7dada348b5814fda8781dc4da646090c",
       "version_major": 2,
       "version_minor": 0
      },
      "text/plain": [
       "Downloading merges.txt:   0%|          | 0.00/456k [00:00<?, ?B/s]"
      ]
     },
     "metadata": {},
     "output_type": "display_data"
    },
    {
     "data": {
      "application/vnd.jupyter.widget-view+json": {
       "model_id": "841c0f728ef548a4908772d6677de16b",
       "version_major": 2,
       "version_minor": 0
      },
      "text/plain": [
       "Downloading config.json:   0%|          | 0.00/1.58k [00:00<?, ?B/s]"
      ]
     },
     "metadata": {},
     "output_type": "display_data"
    },
    {
     "data": {
      "application/vnd.jupyter.widget-view+json": {
       "model_id": "9110b0951a3444e3b85b586b93038234",
       "version_major": 2,
       "version_minor": 0
      },
      "text/plain": [
       "Downloading model.safetensors:   0%|          | 0.00/1.63G [00:00<?, ?B/s]"
      ]
     },
     "metadata": {},
     "output_type": "display_data"
    },
    {
     "data": {
      "application/vnd.jupyter.widget-view+json": {
       "model_id": "b23ee19a8ab84d49aec612c5b4553562",
       "version_major": 2,
       "version_minor": 0
      },
      "text/plain": [
       "Downloading generation_config.json:   0%|          | 0.00/363 [00:00<?, ?B/s]"
      ]
     },
     "metadata": {},
     "output_type": "display_data"
    }
   ],
   "source": [
    "model_name = \"facebook/bart-large-cnn\"\n",
    "tokenizer = BartTokenizer.from_pretrained(model_name)\n",
    "model = BartForConditionalGeneration.from_pretrained(model_name)\n",
    "\n"
   ]
  },
  {
   "cell_type": "code",
   "execution_count": 19,
   "metadata": {},
   "outputs": [
    {
     "name": "stdout",
     "output_type": "stream",
     "text": [
      "\n",
      " The internet began as a research project funded by the U.S. Department of Defense in the 1960s. The introduction of the World Wide Web in 1990 by Tim Berners-Lee was a pivotal moment in internet history. Email,\n",
      "\n",
      " The internet began as a research project funded by the U.S. Department of Defense in the 1960s. The introduction of the World Wide Web in 1990 by Tim Berners-Lee was a pivotal moment in internet history. The internet has become an integral part of daily life, influencing virtually every aspect of society.\n",
      "\n",
      " The internet began as a research project funded by the U.S. Department of Defense in the 1960s. The introduction of the World Wide Web in 1990 by Tim Berners-Lee was a pivotal moment in internet history. The internet has become an integral part of daily life, influencing virtually every aspect of society.\n",
      "\n",
      " The internet began as a research project funded by the U.S. Department of Defense in the 1960s. The introduction of the World Wide Web in 1990 by Tim Berners-Lee was a pivotal moment in internet history. The internet has become an integral part of daily life, influencing virtually every aspect of society.\n"
     ]
    }
   ],
   "source": [
    "inputs = tokenizer.encode(\"summarize: \" + text, return_tensors=\"pt\", max_length=1024, truncation=True)\n",
    "summary_ids = model.generate(inputs, max_length=50, min_length=0, length_penalty=2.0, num_beams=4, early_stopping=True)\n",
    "summary_ids_2 = model.generate(inputs, max_length=100, min_length=0, length_penalty=2.0, num_beams=4, early_stopping=True)\n",
    "summary_ids_3 = model.generate(inputs, max_length=150, min_length=0, length_penalty=2.0, num_beams=4, early_stopping=True)\n",
    "summary_ids_4 = model.generate(inputs, max_length=200, min_length=0, length_penalty=2.0, num_beams=4, early_stopping=True)\n",
    "\n",
    "summary = tokenizer.decode(summary_ids[0], skip_special_tokens=True)\n",
    "summary2 = tokenizer.decode(summary_ids_2[0], skip_special_tokens=True)\n",
    "summary3 = tokenizer.decode(summary_ids_3[0], skip_special_tokens=True)\n",
    "summary4 = tokenizer.decode(summary_ids_4[0], skip_special_tokens=True)\n",
    "\n",
    "summaries = [summary, summary2, summary3, summary4]\n",
    "for sum in summaries:\n",
    "    print(\"\\n\", sum)"
   ]
  }
 ],
 "metadata": {
  "kernelspec": {
   "display_name": "base",
   "language": "python",
   "name": "python3"
  },
  "language_info": {
   "codemirror_mode": {
    "name": "ipython",
    "version": 3
   },
   "file_extension": ".py",
   "mimetype": "text/x-python",
   "name": "python",
   "nbconvert_exporter": "python",
   "pygments_lexer": "ipython3",
   "version": "3.11.5"
  }
 },
 "nbformat": 4,
 "nbformat_minor": 2
}
